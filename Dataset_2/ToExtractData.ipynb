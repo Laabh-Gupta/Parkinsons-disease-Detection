{
 "cells": [
  {
   "cell_type": "code",
   "execution_count": 4,
   "id": "9ff16050-7fa4-4996-98c7-11e20f36442e",
   "metadata": {},
   "outputs": [
    {
     "name": "stdout",
     "output_type": "stream",
     "text": [
      "Loading data from 'test_set.npz'...\n",
      "Found 30 images to extract.\n",
      "Saved: image_0_label_healthy.png\n",
      "Saved: image_1_label_healthy.png\n",
      "Saved: image_2_label_healthy.png\n",
      "Saved: image_3_label_healthy.png\n",
      "Saved: image_4_label_healthy.png\n",
      "Saved: image_5_label_healthy.png\n",
      "Saved: image_6_label_healthy.png\n",
      "Saved: image_7_label_healthy.png\n",
      "Saved: image_8_label_healthy.png\n",
      "Saved: image_9_label_healthy.png\n",
      "Saved: image_10_label_healthy.png\n",
      "Saved: image_11_label_healthy.png\n",
      "Saved: image_12_label_healthy.png\n",
      "Saved: image_13_label_healthy.png\n",
      "Saved: image_14_label_healthy.png\n",
      "Saved: image_15_label_parkinson.png\n",
      "Saved: image_16_label_parkinson.png\n",
      "Saved: image_17_label_parkinson.png\n",
      "Saved: image_18_label_parkinson.png\n",
      "Saved: image_19_label_parkinson.png\n",
      "Saved: image_20_label_parkinson.png\n",
      "Saved: image_21_label_parkinson.png\n",
      "Saved: image_22_label_parkinson.png\n",
      "Saved: image_23_label_parkinson.png\n",
      "Saved: image_24_label_parkinson.png\n",
      "Saved: image_25_label_parkinson.png\n",
      "Saved: image_26_label_parkinson.png\n",
      "Saved: image_27_label_parkinson.png\n",
      "Saved: image_28_label_parkinson.png\n",
      "Saved: image_29_label_parkinson.png\n",
      "\n",
      "Extraction complete! 📂\n",
      "All images are saved in the 'extracted_images' directory.\n"
     ]
    }
   ],
   "source": [
    "import numpy as np\n",
    "import matplotlib.pyplot as plt\n",
    "import os\n",
    "\n",
    "# Define the name of the folder where images will be saved\n",
    "output_folder = 'extracted_images'\n",
    "\n",
    "# Create the folder if it doesn't already exist\n",
    "os.makedirs(output_folder, exist_ok=True)\n",
    "\n",
    "print(f\"Loading data from 'test_set.npz'...\")\n",
    "\n",
    "# Load the .npz file\n",
    "with np.load('test_set.npz') as data:\n",
    "    images = data['arr_0']\n",
    "    labels = data['arr_1']\n",
    "\n",
    "    num_images = len(images)\n",
    "    print(f\"Found {num_images} images to extract.\")\n",
    "\n",
    "    # Loop through each image and its corresponding label\n",
    "    for i in range(num_images):\n",
    "        image = images[i]\n",
    "        label = labels[i]\n",
    "        \n",
    "        # Create a descriptive filename\n",
    "        filename = f\"image_{i}_label_{label}.png\"\n",
    "        filepath = os.path.join(output_folder, filename)\n",
    "        \n",
    "        # Save the numpy array as a PNG image\n",
    "        # Use cmap='gray' for grayscale images\n",
    "        plt.imsave(filepath, image, cmap='gray')\n",
    "        \n",
    "        print(f\"Saved: {filename}\")\n",
    "\n",
    "print(f\"\\nExtraction complete! 📂\")\n",
    "print(f\"All images are saved in the '{output_folder}' directory.\")"
   ]
  },
  {
   "cell_type": "code",
   "execution_count": null,
   "id": "aaec1b2c-f442-42f8-8961-aea11f803a66",
   "metadata": {},
   "outputs": [],
   "source": []
  }
 ],
 "metadata": {
  "kernelspec": {
   "display_name": "Python (PyTorch)",
   "language": "python",
   "name": "pytorch_env"
  },
  "language_info": {
   "codemirror_mode": {
    "name": "ipython",
    "version": 3
   },
   "file_extension": ".py",
   "mimetype": "text/x-python",
   "name": "python",
   "nbconvert_exporter": "python",
   "pygments_lexer": "ipython3",
   "version": "3.12.11"
  }
 },
 "nbformat": 4,
 "nbformat_minor": 5
}
